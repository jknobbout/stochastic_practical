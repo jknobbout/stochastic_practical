{
 "cells": [
  {
   "cell_type": "markdown",
   "metadata": {},
   "source": [
    "#### Import standard required modules"
   ]
  },
  {
   "cell_type": "code",
   "execution_count": null,
   "metadata": {},
   "outputs": [],
   "source": [
    "import control.matlab as c\n",
    "import matplotlib.pyplot as plt\n",
    "import numpy as np\n",
    "import copy"
   ]
  },
  {
   "cell_type": "code",
   "execution_count": null,
   "metadata": {},
   "outputs": [],
   "source": [
    "copy.__version__"
   ]
  },
  {
   "cell_type": "code",
   "execution_count": null,
   "metadata": {},
   "outputs": [],
   "source": [
    "#This keeps the notebook clean\n",
    "import warnings\n",
    "warnings.filterwarnings('ignore')"
   ]
  },
  {
   "cell_type": "markdown",
   "metadata": {},
   "source": [
    "#### Import module 'functions'.\n",
    "This contains functions based on provided matlab code, such as 'create_SS', which is based on cit2s.m and creates a state space system that includes gust effects. This module can be found in the same folder as this notebook."
   ]
  },
  {
   "cell_type": "code",
   "execution_count": null,
   "metadata": {},
   "outputs": [],
   "source": [
    "import functions"
   ]
  },
  {
   "cell_type": "markdown",
   "metadata": {},
   "source": [
    "### 1. Stability Analysis\n",
    "#### 1.a Creating the state space systems\n",
    "Creating the undamped state space system first, gust included:"
   ]
  },
  {
   "cell_type": "code",
   "execution_count": null,
   "metadata": {},
   "outputs": [],
   "source": [
    "undamped_sys = functions.create_SS()"
   ]
  },
  {
   "cell_type": "markdown",
   "metadata": {},
   "source": [
    "The damped system is a copy of the undamped system that includes an active feedback loop with the control law $\\delta_e = K_{\\theta}$. The value of $K_\\theta$ should be chosen such that the damping ratio of the phugoid is equal to $0.5$  and can be determined with the root locus plot of the undamped system."
   ]
  },
  {
   "cell_type": "code",
   "execution_count": null,
   "metadata": {},
   "outputs": [],
   "source": [
    "%%capture\n",
    "%matplotlib\n",
    "\n",
    "#The two lines above force the plot to appear as a clickable interactive\n",
    "#plot rather than an unclickable in-line plot\n",
    "\n",
    "c.rlocus(undamped_sys[2,0], kvect=np.linspace(0, -50.0, num=1000),xlim=[-1.4,0],ylim=[-2.5,2.5])"
   ]
  },
  {
   "cell_type": "markdown",
   "metadata": {},
   "source": [
    "Clicking near the location of -0.12 + 0.20j on the interactive plot gives a damping ratio $\\zeta$ of around 0.5 with a gain of -0.11. Finetuning this with trial and error in Python eventually results in a more exact gain of -0.117017. The damped system can now be found:"
   ]
  },
  {
   "cell_type": "code",
   "execution_count": null,
   "metadata": {},
   "outputs": [],
   "source": [
    "#First create a copy of the undamped system:\n",
    "damped_sys = copy.deepcopy(undamped_sys)\n",
    "\n",
    "#Create a feedback vector with K_theta at the theta position.\n",
    "K_theta = -0.117017\n",
    "K = [0, 0, K_theta, 0, 0, 0, 0]\n",
    "\n",
    "#Add the feedback loop:\n",
    "damped_sys.A = undamped_sys.A - undamped_sys.B[:,0]*K\n"
   ]
  },
  {
   "cell_type": "markdown",
   "metadata": {},
   "source": [
    "Now there are state space systems for the damped and undamped case. Comparing the damping ratios of the phugoid eigenmotions shows that the damped system is properly damped:"
   ]
  },
  {
   "cell_type": "code",
   "execution_count": null,
   "metadata": {},
   "outputs": [],
   "source": [
    "#Round damping ratio to 5 nearest digits and select the damping ratios\n",
    "#that belong to the phugoid eigenmotions.\n",
    "zeta_undamped = round(c.damp(undamped_sys,doprint=False)[1][2],5)\n",
    "zeta_damped = round(c.damp(damped_sys,doprint=False)[1][2],5)\n",
    "\n",
    "print \"Undamped damping ratio: \"+str(zeta_undamped)\n",
    "print \"Damped damping ratio: \"+str(zeta_damped)"
   ]
  },
  {
   "cell_type": "markdown",
   "metadata": {},
   "source": [
    "#### 1.b) Analysis of results\n",
    "A quick comparison of the step responses of both systems can give an indication of the stability of the systems."
   ]
  },
  {
   "cell_type": "code",
   "execution_count": null,
   "metadata": {},
   "outputs": [],
   "source": [
    "%matplotlib inline\n",
    "\n",
    "#Create a large enough time scale\n",
    "t = np.arange(0,100,0.01)\n",
    "\n",
    "#Retrieve step response to default inputs\n",
    "[y1, t] = c.step(undamped_sys[2,0], t)\n",
    "[y2, t] = c.step(damped_sys[2,0], t)\n",
    "                 \n",
    "#Plot the figure\n",
    "fig = plt.figure()\n",
    "ax = fig.add_subplot(111)\n",
    "ax.plot(t, -y1, label=\"Undamped\", color='b')\n",
    "ax.plot(t, -y2, label=\"Damped\", color='r')\n",
    "ax.set_xlim([0,100])\n",
    "plt.legend(loc='upper right')\n",
    "plt.title(\"Step response comparison\")\n",
    "plt.grid()\n",
    "plt.show()"
   ]
  },
  {
   "cell_type": "markdown",
   "metadata": {},
   "source": [
    "Both systems appear stable and the system with the feedback loop is much better damped. Pole-zero maps confirm that both systems are stable:"
   ]
  },
  {
   "cell_type": "code",
   "execution_count": null,
   "metadata": {},
   "outputs": [],
   "source": [
    "p, z = c.pzmap(undamped_sys[2,0], title=\"Undamped Pole Zero Map\")\n",
    "\n",
    "print \"Undamped short period eigenvalues:\"\n",
    "print c.damp(undamped_sys,doprint=False)[2][0]\n",
    "print c.damp(undamped_sys,doprint=False)[2][1]\n",
    "print\n",
    "print \"Undamped phugoid eigenvalues:\"\n",
    "print c.damp(undamped_sys,doprint=False)[2][2]\n",
    "print c.damp(undamped_sys,doprint=False)[2][3]"
   ]
  },
  {
   "cell_type": "code",
   "execution_count": null,
   "metadata": {},
   "outputs": [],
   "source": [
    "p, z = c.pzmap(damped_sys[2,0], title=\"Damped Pole Zero Map\")\n",
    "\n",
    "print \"Damped short period eigenvalues:\"\n",
    "print c.damp(damped_sys,doprint=False)[2][0]\n",
    "print c.damp(damped_sys,doprint=False)[2][1]\n",
    "print\n",
    "print \"Damped phugoid eigenvalues:\"\n",
    "print c.damp(damped_sys,doprint=False)[2][2]\n",
    "print c.damp(damped_sys,doprint=False)[2][3]"
   ]
  },
  {
   "cell_type": "markdown",
   "metadata": {},
   "source": [
    "All the eigenvalues of both the damped and undamped short periods and phugoids have positive real parts, so both systems are longitudinally stable."
   ]
  },
  {
   "cell_type": "code",
   "execution_count": null,
   "metadata": {},
   "outputs": [],
   "source": []
  }
 ],
 "metadata": {
  "kernelspec": {
   "display_name": "Python 2",
   "language": "python",
   "name": "python2"
  },
  "language_info": {
   "codemirror_mode": {
    "name": "ipython",
    "version": 2
   },
   "file_extension": ".py",
   "mimetype": "text/x-python",
   "name": "python",
   "nbconvert_exporter": "python",
   "pygments_lexer": "ipython2",
   "version": "2.7.10"
  }
 },
 "nbformat": 4,
 "nbformat_minor": 2
}
