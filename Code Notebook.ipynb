{
 "cells": [
  {
   "cell_type": "markdown",
   "metadata": {},
   "source": [
    "# AE4304P - Code - J.J. Knobbout, 4303385"
   ]
  },
  {
   "cell_type": "markdown",
   "metadata": {},
   "source": [
    "This notebook is best viewed in full screen. Press the \"Run\" button to go through this notebook step by step. Click on \"Kernel\" and \"Restart & Run All\" to run the entire notebook."
   ]
  },
  {
   "cell_type": "markdown",
   "metadata": {},
   "source": [
    "#### Import standard required modules"
   ]
  },
  {
   "cell_type": "code",
   "execution_count": 1,
   "metadata": {},
   "outputs": [],
   "source": [
    "import control.matlab as cont                    # To use control functions like bode, step, lsim, etc\n",
    "import matplotlib.pyplot as plt                  # To plot graphs\n",
    "import numpy as np                               # To work with arrays\n",
    "import copy                                      # For creating a copy of the undamped state space system\n",
    "from scipy.signal import welch, hanning          # For the Welch routine\n",
    "from scipy.linalg import solve_lyapunov as lyap  # To use the lyapunov method to calculate variances.\n",
    "from IPython.display import HTML, display, Math  # To display tables and state space systems in the notebook\n",
    "import tabulate                                  # Idem\n",
    "from decimal import Decimal                      # To format numbers with scientific notations\n",
    "import warnings                                  # To clean up the notebook\n",
    "warnings.filterwarnings('ignore')                # Hides warnings"
   ]
  },
  {
   "cell_type": "markdown",
   "metadata": {},
   "source": [
    "#### Import module 'functions'.\n",
    "This contains a function based on provided matlab code, in this case 'create_SS', which is based on cit2s.m and creates a state space system that includes gust effects. It has been converted to use with Python. This module can be found in the same folder this notebook is in."
   ]
  },
  {
   "cell_type": "code",
   "execution_count": 2,
   "metadata": {},
   "outputs": [],
   "source": [
    "import functions"
   ]
  },
  {
   "cell_type": "markdown",
   "metadata": {},
   "source": [
    "### 1. Stability Analysis\n",
    "#### 1.a Creating the state space systems\n",
    "Creating the undamped state space system first, gust included:"
   ]
  },
  {
   "cell_type": "code",
   "execution_count": 3,
   "metadata": {},
   "outputs": [],
   "source": [
    "undamped_sys = functions.create_SS()"
   ]
  },
  {
   "cell_type": "markdown",
   "metadata": {},
   "source": [
    "This has created the following state-space system $\\dot{x} = Ax + Bu$:"
   ]
  },
  {
   "cell_type": "code",
   "execution_count": 4,
   "metadata": {},
   "outputs": [
    {
     "data": {
      "text/latex": [
       "$$\\begin{bmatrix}\\dot{\\hat{u}}\\\\\\dot{\\alpha}\\\\\\dot{\\theta}\\\\\\frac{\\dot{q}\\bar{c}}{V}\\\\\\dot{\\hat{u}}_g\\\\\\dot{\\alpha}_g\\\\\\dot{\\alpha}^{*}_g\\\\\\end{bmatrix} = \\begin{bmatrix} -3.63\\text{e-2} & 7.85\\text{e-2} & -1.90\\text{e-1} & 0 & -3.63\\text{e-2} & 7.85\\text{e-2} & 0 \\\\ -3.76\\text{e-1} & -8.50\\text{e-1} & 0 & 2.46\\text{e+1} & -3.76\\text{e-1} & -8.50\\text{e-1} & 1.59\\text{e-2} \\\\ 0 & 0 & 0 & 2.54\\text{e+1} & 0 & 0 & 0 \\\\ 9.14\\text{e-3} & -4.76\\text{e-2} & 0 & -1.85\\text{e+0} & 9.14\\text{e-3} & -4.76\\text{e-2} & 2.47\\text{e-2} \\\\ 0 & 0 & 0 & 0 & -3.43\\text{e-1} & 0 & 0 \\\\ 0 & 0 & 0 & 0 & 0 & 0 & 1 \\\\ 0 & 0 & 0 & 0 & 0 & -1.17\\text{e-1} & -6.85\\text{e-1} \\\\\\end{bmatrix}\\begin{bmatrix}\\hat{u}\\\\\\alpha\\\\\\theta\\\\\\frac{q\\bar{c}}{V}\\\\\\hat{u}_g\\\\\\alpha_g\\\\\\alpha^{*}_g\\\\\\end{bmatrix} + \\begin{bmatrix} 0 & 0 & 0 \\\\ -1.03\\text{e-1} & 0 & 3.13\\text{e-4} \\\\ 0 & 0 & 0 \\\\ -2.63\\text{e-1} & 0 & 4.87\\text{e-4} \\\\ 0 & 1.61\\text{e-2} & 0 \\\\ 0 & 0 & 1.97\\text{e-2} \\\\ 0 & 0 & -9.62\\text{e-3} \\\\\\end{bmatrix}\\begin{bmatrix}\\delta_e\\\\w_1\\\\w_3\\\\\\end{bmatrix}$$"
      ],
      "text/plain": [
       "<IPython.core.display.Math object>"
      ]
     },
     "metadata": {},
     "output_type": "display_data"
    }
   ],
   "source": [
    "significant_digits = 2  # Set the number of significant digits for the state-space representation\n",
    "\n",
    "# Import a function that neatly prints the state space system\n",
    "from figures import neat_statespace\n",
    "\n",
    "# Define the labels of all the variables\n",
    "x_dot = np.transpose([[r\"\\dot{\\hat{u}}\", r\"\\dot{\\alpha}\", r\"\\dot{\\theta}\", r\"\\frac{\\dot{q}\\bar{c}}{V}\", r\"\\dot{\\hat{u}}_g\", \\\n",
    "                       r\"\\dot{\\alpha}_g\", r\"\\dot{\\alpha}^{*}_g\"]])\n",
    "x = np.transpose([[r\"\\hat{u}\", r\"\\alpha\", r\"\\theta\", r\"\\frac{q\\bar{c}}{V}\", r\"\\hat{u}_g\", r\"\\alpha_g\", r\"\\alpha^{*}_g\"]])\n",
    "u = np.transpose([[r\"\\delta_e\", r\"w_1\", r\"w_3\"]])\n",
    "\n",
    "# Print to 2 significant digits (last variable of this function)\n",
    "display(Math(neat_statespace(undamped_sys.A, undamped_sys.B, u, x, x_dot, significant_digits)))"
   ]
  },
  {
   "cell_type": "markdown",
   "metadata": {},
   "source": [
    "with $y = Cx + Du$, where C is an identity matrix of size 7 and D a zero matrix with the same shape as matrix B.\n",
    "\n",
    "The damped system is a copy of the undamped system that includes an active feedback loop with the control law $\\delta_e = K_{\\theta}$. The value of $K_\\theta$ should be chosen such that the damping ratio of the phugoid is equal to $0.5$, which can be determined with the root locus plot of the undamped system."
   ]
  },
  {
   "cell_type": "code",
   "execution_count": 5,
   "metadata": {},
   "outputs": [
    {
     "data": {
      "image/png": "[encoded data removed]",
      "text/plain": [
       "<Figure size 432x288 with 1 Axes>"
      ]
     },
     "metadata": {
      "needs_background": "light"
     },
     "output_type": "display_data"
    }
   ],
   "source": [
    "#Taking a large enough range for the gain and adjusting the window size to fit every section.\n",
    "rlist, klist = cont.rlocus(undamped_sys[2,0], \\\n",
    "                           kvect=np.linspace(0, -50.0, num=1000), \\\n",
    "                           xlim=[-1.4,0], \\\n",
    "                           ylim=[-1.5,1.5])"
   ]
  },
  {
   "cell_type": "markdown",
   "metadata": {},
   "source": [
    "A downside of this web-based notebook is that this root locus plot is not interactive. An offline (interactive and clickable) version shows that the required gain lies around -0.11. This can be shown here as well by comparing the damping ratios obtained by using the 2 gain values closest to -0.11:"
   ]
  },
  {
   "cell_type": "code",
   "execution_count": 6,
   "metadata": {},
   "outputs": [
    {
     "name": "stdout",
     "output_type": "stream",
     "text": [
      "For a gain value of -0.1001, the damping ratio becomes 0.44517.\n",
      "For a gain value of -0.15015, the damping ratio becomes 0.59875.\n"
     ]
    }
   ],
   "source": [
    "# Gain values before and after -0.11:\n",
    "gain1 = klist[2]\n",
    "gain2 = klist[3]\n",
    "\n",
    "# Define s variable\n",
    "s = cont.tf([1, 1],[1])-1\n",
    "\n",
    "# Every gain value has a number of root locations plotted \n",
    "# (1 for every root locus section). \n",
    "# Get the two roots from the phugoid sections and multiply them together\n",
    "# to find the characteristic equations:\n",
    "char_equation1 = (s - rlist[2][5])*(s - rlist[2][6])\n",
    "char_equation2 = (s - rlist[3][5])*(s - rlist[3][6])\n",
    "\n",
    "# Characteristic equations are now in transfer function form, retrieve \n",
    "# the equations from the numerators:\n",
    "num1, dummy1 = cont.tfdata(char_equation1)\n",
    "num2, dummy2 = cont.tfdata(char_equation2)\n",
    "\n",
    "# Recall that the characteristic equation has standard form \n",
    "# s^2 + 2*zeta*wn + wn^2 and determine zetas:\n",
    "zeta1 = num1[0][0][1]/(2*(num1[0][0][2]**0.5))\n",
    "zeta2 = num2[0][0][1]/(2*(num2[0][0][2]**0.5))\n",
    "\n",
    "print \"For a gain value of \"+str(round(gain1,5))+ \\\n",
    "      \", the damping ratio becomes \"+str(round(zeta1.real,5))+\".\"\n",
    "print \"For a gain value of \"+str(round(gain2,5))+ \\\n",
    "      \", the damping ratio becomes \"+str(round(zeta2.real,5))+\".\""
   ]
  },
  {
   "cell_type": "markdown",
   "metadata": {},
   "source": [
    "The proper gain value is therefore somewhere in between.\n",
    "\n",
    "Finetuning this value with trial and error in Python eventually results in a more exact gain value of -0.117017. The damped system can now be found:"
   ]
  },
  {
   "cell_type": "code",
   "execution_count": 7,
   "metadata": {},
   "outputs": [],
   "source": [
    "from figures import neat_statespace_compare\n",
    "\n",
    "# First create a copy of the undamped system:\n",
    "damped_sys = copy.deepcopy(undamped_sys)\n",
    "\n",
    "# Create a feedback vector with K_theta at the theta position.\n",
    "K_theta = -0.117017\n",
    "K = [0, 0, K_theta, 0, 0, 0, 0]\n",
    "\n",
    "# Add the feedback loop:\n",
    "damped_sys.A = undamped_sys.A - undamped_sys.B[:,0]*K"
   ]
  },
  {
   "cell_type": "markdown",
   "metadata": {},
   "source": [
    "This damped system looks as follows, with changes compared to the undamped system printed in bold:"
   ]
  },
  {
   "cell_type": "code",
   "execution_count": 8,
   "metadata": {
    "scrolled": false
   },
   "outputs": [
    {
     "data": {
      "text/latex": [
       "$$\\begin{bmatrix}\\dot{\\hat{u}}\\\\\\dot{\\alpha}\\\\\\dot{\\theta}\\\\\\frac{\\dot{q}\\bar{c}}{V}\\\\\\dot{\\hat{u}}_g\\\\\\dot{\\alpha}_g\\\\\\dot{\\alpha}^{*}_g\\\\\\end{bmatrix} = \\begin{bmatrix} -3.63\\text{e-2} & 7.85\\text{e-2} & -1.90\\text{e-1} & 0 & -3.63\\text{e-2} & 7.85\\text{e-2} & 0 \\\\ -3.76\\text{e-1} & -8.50\\text{e-1} & \\textbf{-1.21e-2} & 2.46\\text{e+1} & -3.76\\text{e-1} & -8.50\\text{e-1} & 1.59\\text{e-2} \\\\ 0 & 0 & 0 & 2.54\\text{e+1} & 0 & 0 & 0 \\\\ 9.14\\text{e-3} & -4.76\\text{e-2} & \\textbf{-3.07e-2} & -1.85\\text{e+0} & 9.14\\text{e-3} & -4.76\\text{e-2} & 2.47\\text{e-2} \\\\ 0 & 0 & 0 & 0 & -3.43\\text{e-1} & 0 & 0 \\\\ 0 & 0 & 0 & 0 & 0 & 0 & 1 \\\\ 0 & 0 & 0 & 0 & 0 & -1.17\\text{e-1} & -6.85\\text{e-1} \\\\\\end{bmatrix}\\begin{bmatrix}\\hat{u}\\\\\\alpha\\\\\\theta\\\\\\frac{q\\bar{c}}{V}\\\\\\hat{u}_g\\\\\\alpha_g\\\\\\alpha^{*}_g\\\\\\end{bmatrix} + \\begin{bmatrix} 0 & 0 & 0 \\\\ -1.03\\text{e-1} & 0 & 3.13\\text{e-4} \\\\ 0 & 0 & 0 \\\\ -2.63\\text{e-1} & 0 & 4.87\\text{e-4} \\\\ 0 & 1.61\\text{e-2} & 0 \\\\ 0 & 0 & 1.97\\text{e-2} \\\\ 0 & 0 & -9.62\\text{e-3} \\\\\\end{bmatrix}\\begin{bmatrix}\\delta_e\\\\w_1\\\\w_3\\\\\\end{bmatrix}$$"
      ],
      "text/plain": [
       "<IPython.core.display.Math object>"
      ]
     },
     "metadata": {},
     "output_type": "display_data"
    }
   ],
   "source": [
    "significant_digits = 2\n",
    "\n",
    "display(Math(neat_statespace_compare(damped_sys.A, damped_sys.B, undamped_sys.A, undamped_sys.B, u, x, x_dot, \n",
    "                                     significant_digits)))"
   ]
  },
  {
   "cell_type": "markdown",
   "metadata": {},
   "source": [
    "The code for these state space representations can be found in the 'figures' module.\n",
    "\n",
    "Now there are state space systems for the damped and undamped case. Comparing the damping ratios of the phugoid eigenmotions shows that the damped system is properly damped:"
   ]
  },
  {
   "cell_type": "code",
   "execution_count": 9,
   "metadata": {},
   "outputs": [
    {
     "name": "stdout",
     "output_type": "stream",
     "text": [
      "Undamped damping ratio: 0.05038\n",
      "Damped damping ratio: 0.5\n"
     ]
    }
   ],
   "source": [
    "# Round damping ratio to 5 nearest digits and select the damping ratios\n",
    "# that belong to the phugoid eigenmotions.\n",
    "zeta_undamped = round(cont.damp(undamped_sys,doprint=False)[1][2],5)\n",
    "zeta_damped = round(cont.damp(damped_sys,doprint=False)[1][2],5)\n",
    "\n",
    "print \"Undamped damping ratio: \"+str(zeta_undamped)\n",
    "print \"Damped damping ratio: \"+str(zeta_damped)"
   ]
  },
  {
   "cell_type": "markdown",
   "metadata": {},
   "source": [
    "The new damping ratio is 0.50000, rounded to the nearest 5 digits."
   ]
  },
  {
   "cell_type": "markdown",
   "metadata": {},
   "source": [
    "#### 1.b) Analysis of results\n",
    "A quick comparison of the step responses of both systems can give an indication of the stability of the systems."
   ]
  },
  {
   "cell_type": "code",
   "execution_count": null,
   "metadata": {},
   "outputs": [],
   "source": [
    "# Create a large enough time scale\n",
    "t = np.arange(0,100,0.01)\n",
    "\n",
    "# Retrieve theta step response to default inputs\n",
    "[y1, t] = cont.step(undamped_sys[2,0], t)\n",
    "[y2, t] = cont.step(damped_sys[2,0], t)\n",
    "                 \n",
    "# Plot the figure\n",
    "fig = plt.figure()\n",
    "ax = fig.add_subplot(111)\n",
    "ax.plot(t, -y1, label=\"Undamped\")\n",
    "ax.plot(t, -y2, label=\"Damped\")\n",
    "ax.set_xlim([0,100])\n",
    "plt.xlabel('Time [s]')\n",
    "plt.ylabel(r\"$\\theta$ [$\\degree$]\")\n",
    "plt.legend(loc='upper right')\n",
    "plt.title(\"Step response comparison\")\n",
    "plt.grid()\n",
    "plt.show()"
   ]
  },
  {
   "cell_type": "markdown",
   "metadata": {},
   "source": [
    "Both systems appear stable and the system with the feedback loop is much better damped. The pole map below confirms that both systems are stable:"
   ]
  },
  {
   "cell_type": "code",
   "execution_count": null,
   "metadata": {},
   "outputs": [],
   "source": [
    "# Create function to make complex numbers prettier:\n",
    "def formatComplexEV(ev, decimals):\n",
    "    return str(round(np.real(ev), decimals))+r' $\\pm$ '+str(round(np.imag(ev), decimals))+'j'\n",
    "\n",
    "# Retrieves poles and manually plot them to allow for more formatting options\n",
    "p_u, z_u = cont.pzmap(undamped_sys[2,0], Plot=False);\n",
    "p_d, z_d = cont.pzmap(damped_sys[2,0], Plot=False);\n",
    "\n",
    "plt.title(\"Pole map\")\n",
    "plt.scatter(np.real(p_u), np.imag(p_u), 80, marker='x', label='Undamped');\n",
    "plt.scatter(np.real(p_d), np.imag(p_d), 80, marker='x', label='Damped');\n",
    "plt.xlabel('Re [-]');\n",
    "plt.ylabel('Im [-]')\n",
    "plt.axhline(y=0, color='black', linestyle='-');\n",
    "plt.axvline(x=0, color='black', linestyle='-');\n",
    "\n",
    "plt.text(1.1, 0.8, \"Undamped eigenvalues:\", fontsize=14, transform=plt.gcf().transFigure);\n",
    "plt.text(1.1, 0.7, \"Short period: \"+formatComplexEV(cont.damp(undamped_sys,doprint=False)[2][0],4), \n",
    "         fontsize=12, transform=plt.gcf().transFigure);\n",
    "plt.text(1.1, 0.6, \"Phugoid: \"+formatComplexEV(cont.damp(undamped_sys,doprint=False)[2][2],4), \n",
    "         fontsize=12, transform=plt.gcf().transFigure);\n",
    "\n",
    "plt.text(1.1, 0.4, \"Damped eigenvalues:\", fontsize=14, transform=plt.gcf().transFigure);\n",
    "plt.text(1.1, 0.3, \"Short period: \"+formatComplexEV(cont.damp(damped_sys,doprint=False)[2][0],4), \n",
    "         fontsize=12, transform=plt.gcf().transFigure);\n",
    "plt.text(1.1, 0.2, \"Phugoid: \"+formatComplexEV(cont.damp(damped_sys,doprint=False)[2][2],4), \n",
    "         fontsize=12, transform=plt.gcf().transFigure);\n",
    "\n",
    "plt.legend();"
   ]
  },
  {
   "cell_type": "markdown",
   "metadata": {},
   "source": [
    "All poles are located in the left-hand pane, so all the eigenvalues of both the damped and undamped short periods and phugoids have negative real parts, which means that both systems are longitudinally stable."
   ]
  },
  {
   "cell_type": "markdown",
   "metadata": {},
   "source": [
    "### 2. Time-Domain Analysis\n",
    "Both the damped and undamped state-space systems created in the previous section will be extended to include the load factor $n_z = \\frac{a_z}{g}$. The acceleration $a_z$ can be estimated with $V\\dot{\\gamma}$. Knowing that $\\gamma = \\theta - \\alpha$, the time derivative is $\\dot{\\gamma} = q - \\dot{\\alpha}$. The load factor $n_z$ can therefore be included using: $\\frac{V}{g}(q - \\dot{\\alpha})$."
   ]
  },
  {
   "cell_type": "code",
   "execution_count": null,
   "metadata": {},
   "outputs": [],
   "source": [
    "# Values provided by the assignment:\n",
    "V_trim = 51.4\n",
    "c = 2.022\n",
    "g = 9.80655\n",
    "\n",
    "# Two systems have to be extended, so it's easier to create a function for \n",
    "# it and use it twice:\n",
    "def extend_ss(ss):\n",
    "    \n",
    "    # Only the output is extended, so only the C and D matrices. \n",
    "    # The fourth output variable is qc/V,\n",
    "    # so V/c is multiplied by that variable to retrieve q:\n",
    "    C_extension = V_trim/g * ((V_trim/c)*np.array([0, 0, 0, 1, 0, 0, 0]) - ss.A[1,:])\n",
    "    \n",
    "    D_extension = V_trim/g * (-ss.B[1,:]) \n",
    "    \n",
    "    # The new state-space matrices are:\n",
    "    A = ss.A\n",
    "    B = ss.B\n",
    "    C = np.vstack((ss.C, C_extension))\n",
    "    D = np.vstack((ss.D, D_extension))\n",
    "    \n",
    "    # Return a new state-space system with these arrays:\n",
    "    return cont.ss(A, B, C, D)\n",
    "\n",
    "# Update the state-space systems:\n",
    "undamped_sys = extend_ss(undamped_sys)\n",
    "damped_sys = extend_ss(damped_sys)\n",
    "\n",
    "### NOTE!!, re-running this cell will keep extending the state space systems!"
   ]
  },
  {
   "cell_type": "markdown",
   "metadata": {},
   "source": [
    "This causes the undamped and damped system's $y = Cx + Du$ equation to look as follows, with the changes in the damped system compared to the undamped system again printed in bold:"
   ]
  },
  {
   "cell_type": "code",
   "execution_count": null,
   "metadata": {},
   "outputs": [],
   "source": [
    "x_dot = \"y\" #Defining x_dot as a single string will prevent neat_statespace() from attempting to iterate over it\n",
    "x = np.transpose([[r\"\\hat{u}\", r\"\\alpha\", r\"\\theta\", r\"\\frac{q\\bar{c}}{V}\", r\"\\hat{u}_g\", r\"\\alpha_g\", r\"\\alpha^{*}_g\", \\\n",
    "                   \"n_z\"]])\n",
    "\n",
    "display(Math(r\"Undamped:\"))\n",
    "display(Math(neat_statespace(undamped_sys.C, undamped_sys.D, u, x, x_dot, 2)))\n",
    "\n",
    "display(Math(r\"Damped:\"))\n",
    "display(Math(neat_statespace_compare(damped_sys.C, damped_sys.D, undamped_sys.C, undamped_sys.D, u, x, x_dot, 2)))\n"
   ]
  },
  {
   "cell_type": "markdown",
   "metadata": {},
   "source": [
    "The $\\dot{x} = Ax + Bu$ equation of the state space systems remains the same.\n",
    "\n",
    "A time-domain analysis will be performed on all aircraft states for both systems: $V$, $\\alpha$, $\\theta$, $\\frac{qc}{V}$, and the added state $n_z$. The only input for these analyses will be vertical turbulence. The provided matlab file exampl74b.m shows how to plot the time responses of such systems:"
   ]
  },
  {
   "cell_type": "code",
   "execution_count": null,
   "metadata": {},
   "outputs": [],
   "source": [
    "# Set time settings, these will also be used for the experimental routines\n",
    "T = 1000\n",
    "dt = 0.1\n",
    "\n",
    "t = np.arange(0,T,dt)\n",
    "N = len(t)\n",
    "\n",
    "# A seed is initialised to ensure the reproducibility of the results:\n",
    "np.random.seed(20)\n",
    "\n",
    "# Create an input array:\n",
    "input_delta_e = np.zeros((1,N))\n",
    "input_w1 = np.zeros((1,N))\n",
    "input_w3 = np.random.randn(1,N)/np.sqrt(dt)\n",
    "\n",
    "input_array = np.transpose(np.vstack((input_delta_e, input_w1, input_w3)))\n",
    "\n",
    "# Time analysis will be done for both systems, so again a function is useful:\n",
    "def time_analysis(ss):\n",
    "    \n",
    "    # Create an output\n",
    "    y, dummy1, dummy2 = cont.lsim(ss, U=input_array, T=t)\n",
    "    \n",
    "    # Extract aircraft states from output:\n",
    "    V = y[:,0]\n",
    "    alpha = y[:,1]\n",
    "    theta = y[:,2]\n",
    "    qc_V = y[:,3]\n",
    "    n_z = y[:,7]\n",
    "    \n",
    "    # Convert states to SI units and absolute values:\n",
    "    V = V*V_trim + V_trim\n",
    "    alpha = alpha*180./np.pi\n",
    "    theta = theta*180./np.pi\n",
    "    q = qc_V*V_trim*(180./np.pi)/c\n",
    "    \n",
    "    # Return the states\n",
    "    return V, alpha, theta, q, n_z, [V, alpha, theta, q, n_z]\n",
    "\n",
    "V_undamped, alpha_undamped, theta_undamped, q_undamped, n_z_undamped, undamped_time_data = time_analysis(undamped_sys)\n",
    "V_damped, alpha_damped, theta_damped, q_damped, n_z_damped, damped_time_data = time_analysis(damped_sys)"
   ]
  },
  {
   "cell_type": "markdown",
   "metadata": {},
   "source": [
    "The damped and undamped responses will be plotted against each other to immediately tell the difference. The code for plotting these figures can be found in the 'figures' module."
   ]
  },
  {
   "cell_type": "code",
   "execution_count": null,
   "metadata": {},
   "outputs": [],
   "source": [
    "from figures import create_time_domain_figures\n",
    "\n",
    "# General graph settings\n",
    "fig_width = 15\n",
    "fig_height = 20\n",
    "line_width = 1\n",
    "label_fontsize = 12\n",
    "subplot_vspace = 0.05\n",
    "\n",
    "create_time_domain_figures(T, t, damped_time_data, undamped_time_data, \n",
    "                           fig_width, fig_height, line_width, label_fontsize, \n",
    "                           subplot_vspace)"
   ]
  },
  {
   "cell_type": "markdown",
   "metadata": {},
   "source": [
    "### 3. Spectral analysis\n",
    "\n",
    "For the previously analysed aircraft states, calculate:\n",
    "\n",
    "#### 3.a Analytical Power Spectral Density functions using the state-space representation\n",
    "An analytical PSD has to be found for all five variables. The provided matlab file exampl83.m shows how to compute analytical PSDs to horizontal lateral turbulence. This method will be used for the case of vertical turbulence. It is based on the formula $S_{\\bar{y}\\bar{y}}(\\omega) = |H(\\omega)|^2 \\cdot W$, where $W$ is the power spectral density of the input $\\bar{u}(t)$, which is set at 1."
   ]
  },
  {
   "cell_type": "code",
   "execution_count": null,
   "metadata": {},
   "outputs": [],
   "source": [
    "# Again a function is useful to compute the PSD for 5 different variables:\n",
    "\n",
    "# For a given state-space system, create an analytical PSD (aPSD) for a certain\n",
    "# input/output combination.\n",
    "def create_aPSD(ss, input_index, output_index, w):\n",
    "    mag, dummy1, dummy2 = cont.bode(ss[output_index,input_index], w, Plot=False)\n",
    "    return mag*mag\n",
    "\n",
    "# Create logarithmic frequency scale\n",
    "w_aPSD = np.logspace(-2,2,500)\n",
    "\n",
    "# Input is vertical gust, third input (index = 2)\n",
    "aPSD_V_undamped = create_aPSD(undamped_sys, 2, 0, w_aPSD)\n",
    "aPSD_alpha_undamped = create_aPSD(undamped_sys, 2, 1, w_aPSD)\n",
    "aPSD_theta_undamped = create_aPSD(undamped_sys, 2, 2, w_aPSD)\n",
    "aPSD_q_undamped = create_aPSD(undamped_sys, 2, 3, w_aPSD)\n",
    "aPSD_n_z_undamped = create_aPSD(undamped_sys, 2, 7, w_aPSD)\n",
    "\n",
    "undamped_aPSD_data = [aPSD_V_undamped, aPSD_alpha_undamped, aPSD_theta_undamped, \n",
    "                      aPSD_q_undamped, aPSD_n_z_undamped]\n",
    "\n",
    "aPSD_V_damped = create_aPSD(damped_sys, 2, 0, w_aPSD)\n",
    "aPSD_alpha_damped = create_aPSD(damped_sys, 2, 1, w_aPSD)\n",
    "aPSD_theta_damped = create_aPSD(damped_sys, 2, 2, w_aPSD)\n",
    "aPSD_q_damped = create_aPSD(damped_sys, 2, 3, w_aPSD)\n",
    "aPSD_n_z_damped = create_aPSD(damped_sys, 2, 7, w_aPSD)\n",
    "\n",
    "damped_aPSD_data = [aPSD_V_damped, aPSD_alpha_damped, aPSD_theta_damped, \n",
    "                    aPSD_q_damped, aPSD_n_z_damped]"
   ]
  },
  {
   "cell_type": "markdown",
   "metadata": {},
   "source": [
    "Before plotting these figures, the experimental analyses will be performed. This way, all the PSDs can be plotted together to really get an impression of the differences between these methods."
   ]
  },
  {
   "cell_type": "markdown",
   "metadata": {},
   "source": [
    "#### 3.b Experimental PSD\n",
    "This method is based on the equation:\n",
    "\n",
    "\n",
    "$S_{\\bar{y}\\bar{y}}(\\omega) = dt \\cdot \\lim_{N \\to \\infty}E\\{\\frac{1}{N}\\bar{Y}^*[k]\\bar{Y}[k]\\}$\n",
    "\n",
    "An example of how to code this is shown in Matlab file exampl44.m.\n"
   ]
  },
  {
   "cell_type": "code",
   "execution_count": null,
   "metadata": {},
   "outputs": [],
   "source": [
    "# Set sampling settings, these will also be used for the pwelch routine later on\n",
    "\n",
    "fs = 1./dt\n",
    "w_ePSD = 2*np.pi*fs*np.arange(0,(float(N)/2.))/float(N)\n",
    "\n",
    "# Recreate the time series, but this time skip the conversion to SI units\n",
    "# The same seed is initialised to ensure that the input array stays the same as before\n",
    "np.random.seed(20)\n",
    "\n",
    "# Create an input array:\n",
    "input_delta_e = np.zeros((1,N))\n",
    "input_w1 = np.zeros((1,N))\n",
    "input_w3 = np.random.randn(1,N)/np.sqrt(dt)\n",
    "\n",
    "input_array = np.transpose(np.vstack((input_delta_e, input_w1, input_w3)))\n",
    "\n",
    "y_undamped, dummy1, dummy2 = cont.lsim(undamped_sys, input_array, t)\n",
    "y_damped, dummy1, dummy2 = cont.lsim(damped_sys, input_array, t)\n",
    "\n",
    "### These collections are for later when calculating variances with np.var()\n",
    "time_data_undamped = [y_undamped[:,0],y_undamped[:,1],y_undamped[:,2],y_undamped[:,3],y_undamped[:,7]]\n",
    "time_data_damped = [y_damped[:,0],y_damped[:,1],y_damped[:,2],y_damped[:,3],y_damped[:,7]]\n",
    "###\n",
    "\n",
    "# Now create the experimental PSDs using the fft routine from numpy.fft\n",
    "def create_ePSD(var):\n",
    "    var_f = dt*np.fft.fft(var)\n",
    "    S_var = (1./T)*(var_f*np.conj(var_f))\n",
    "    return S_var[0:N/2]\n",
    "\n",
    "ePSD_V_undamped = create_ePSD(y_undamped[:,0])\n",
    "ePSD_alpha_undamped = create_ePSD(y_undamped[:,1])\n",
    "ePSD_theta_undamped = create_ePSD(y_undamped[:,2])\n",
    "ePSD_q_undamped = create_ePSD(y_undamped[:,3])\n",
    "ePSD_n_z_undamped = create_ePSD(y_undamped[:,7])\n",
    "\n",
    "undamped_ePSD_data = [ePSD_V_undamped, ePSD_alpha_undamped, \n",
    "                      ePSD_theta_undamped, ePSD_q_undamped, ePSD_n_z_undamped]\n",
    "\n",
    "ePSD_V_damped = create_ePSD(y_damped[:,0])\n",
    "ePSD_alpha_damped = create_ePSD(y_damped[:,1])\n",
    "ePSD_theta_damped = create_ePSD(y_damped[:,2])\n",
    "ePSD_q_damped = create_ePSD(y_damped[:,3])\n",
    "ePSD_n_z_damped = create_ePSD(y_damped[:,7])\n",
    "\n",
    "damped_ePSD_data = [ePSD_V_damped, ePSD_alpha_damped, ePSD_theta_damped, \n",
    "                    ePSD_q_damped, ePSD_n_z_damped]"
   ]
  },
  {
   "cell_type": "markdown",
   "metadata": {},
   "source": [
    "Now that the FFT analyses are done and stored, the Welch routine is up next, which is performed below by simply using scipy's welch function."
   ]
  },
  {
   "cell_type": "code",
   "execution_count": null,
   "metadata": {},
   "outputs": [],
   "source": [
    "# Set window size not too large, or noise will remain, but not too small, or lower frequencies and resonance peaks are not\n",
    "# accurately presented\n",
    "win = hanning(500, True)\n",
    "\n",
    "# Set overlap at 50% (too high and the noise again remains)\n",
    "noverlap = 250\n",
    "\n",
    "# Code here is based on provided Matlab file exampl45.m\n",
    "def pwelch(data):\n",
    "    f, pPSD = welch(data, fs=fs,nfft=int(N),noverlap=noverlap, return_onesided=True, detrend=False, window=win)\n",
    "    f = f[0:(int(N)/2)+1]\n",
    "    pPSD = pPSD/2.\n",
    "    pPSD = pPSD[0:(int(N)/2)+1]\n",
    "    \n",
    "    return f, pPSD\n",
    "\n",
    "f, pPSD_V_undamped = pwelch(y_undamped[:,0])\n",
    "dummy, pPSD_alpha_undamped = pwelch(y_undamped[:,1])\n",
    "dummy, pPSD_theta_undamped = pwelch(y_undamped[:,2])\n",
    "dummy, pPSD_q_undamped = pwelch(y_undamped[:,3])\n",
    "dummy, pPSD_n_z_undamped = pwelch(y_undamped[:,7])\n",
    "\n",
    "undamped_pPSD_data = [pPSD_V_undamped, pPSD_alpha_undamped, pPSD_theta_undamped, pPSD_q_undamped, pPSD_n_z_undamped]\n",
    "\n",
    "dummy, pPSD_V_damped = pwelch(y_damped[:,0])\n",
    "dummy, pPSD_alpha_damped = pwelch(y_damped[:,1])\n",
    "dummy, pPSD_theta_damped = pwelch(y_damped[:,2])\n",
    "dummy, pPSD_q_damped = pwelch(y_damped[:,3])\n",
    "dummy, pPSD_n_z_damped = pwelch(y_damped[:,7])\n",
    "\n",
    "damped_pPSD_data = [pPSD_V_damped, pPSD_alpha_damped, pPSD_theta_damped, pPSD_q_damped, pPSD_n_z_damped]"
   ]
  },
  {
   "cell_type": "markdown",
   "metadata": {},
   "source": [
    "Now plot the analytical PSD together with both experimental routines (FFT and PWELCH) to compare them all:"
   ]
  },
  {
   "cell_type": "code",
   "execution_count": null,
   "metadata": {
    "scrolled": false
   },
   "outputs": [],
   "source": [
    "from figures import create_PSD_figures\n",
    "\n",
    "# General graph settings\n",
    "fig_width = 13\n",
    "fig_height = 40\n",
    "line_width = 1\n",
    "label_fontsize = 12\n",
    "subplot_vspace = 0.15\n",
    "titles = [r\"$\\hat{u}$\",r\"$\\alpha$\",r\"$\\theta$\",r\"$\\frac{qc}{V}$\",r\"$n_z$\"]\n",
    "ylabels = [r\"$S_{\\hat{u}\\hat{u}}$  $\\left[\\frac{rad^2}{rad/s}\\right]$\", \n",
    "           r\"$S_{\\alpha\\alpha}$  $\\left[\\frac{rad^2}{rad/s}\\right]$\",\n",
    "           r\"$S_{\\theta\\theta}$  $\\left[\\frac{rad^2}{rad/s}\\right]$\",\n",
    "           r\"$S_{qq}$  $\\left[\\frac{rad^2}{rad/s}\\right]$\",\n",
    "           r\"$S_{nn}$  $\\left[\\frac{rad^2}{rad/s}\\right]$\"]\n",
    "\n",
    "w_pPSD = 2*np.pi*f\n",
    "\n",
    "for i in [0,1,2,3,4]:\n",
    "    \n",
    "    create_PSD_figures(w_aPSD, w_ePSD, w_pPSD, damped_aPSD_data[i],\n",
    "                        undamped_aPSD_data[i], damped_ePSD_data[i], undamped_ePSD_data[i], \n",
    "                        damped_pPSD_data[i], undamped_pPSD_data[i], fig_width, \n",
    "                        fig_height, line_width, label_fontsize, subplot_vspace, ylabels[i])\n",
    "    plt.suptitle(\"Analytical and Experimental PSDs for state variable \"+titles[i], x=0.5, y=0.91, fontsize=14, weight='bold')\n",
    "    \n"
   ]
  },
  {
   "cell_type": "markdown",
   "metadata": {},
   "source": [
    "### 4. Variances\n",
    "#### 4.a. FIrst the variances are calculated by crude integrating the analytical power spectra for all 5 states (n = 5)."
   ]
  },
  {
   "cell_type": "code",
   "execution_count": null,
   "metadata": {},
   "outputs": [],
   "source": [
    "# This code is based on the Matlab exampl74a.m file, which also\n",
    "# uses this crude integration method.\n",
    "n = 5\n",
    "aVar_undamped = np.zeros((1,n))\n",
    "aVar_damped = np.zeros((1,n))\n",
    "\n",
    "for i in range(0,len(w_aPSD)-1):\n",
    "    for j in range(0, n):\n",
    "        aVar_undamped[0][j] = aVar_undamped[0][j] + (w_aPSD[i+1] - w_aPSD[i])*undamped_aPSD_data[j][i]\n",
    "        aVar_damped[0][j] = aVar_damped[0][j] + (w_aPSD[i+1] - w_aPSD[i])*damped_aPSD_data[j][i]\n",
    "\n",
    "aVar_undamped = aVar_undamped[0]/np.pi\n",
    "aVar_damped = aVar_damped[0]/np.pi"
   ]
  },
  {
   "cell_type": "markdown",
   "metadata": {},
   "source": [
    "#### 4.b Then the variances are calculated by solving the Lyapunov equation"
   ]
  },
  {
   "cell_type": "code",
   "execution_count": null,
   "metadata": {},
   "outputs": [],
   "source": [
    "# This code is based on the Matlab exampl72.m file, which also\n",
    "# uses this method to solve the lyapunov equation.\n",
    "# Ran into some problems using control.lyap, so scipy's version is\n",
    "# used instead\n",
    "\n",
    "W = 1.0 # Set intensity at 1\n",
    "\n",
    "def var_lyap(ss):\n",
    "    A = ss.A\n",
    "    B = ss.B[:,2] # Only the third input\n",
    "    C = ss.C\n",
    "    D = ss.D\n",
    "    \n",
    "    # Solve lyapunov equation:\n",
    "    \n",
    "    L = lyap(A, B*W*np.transpose(B))\n",
    "\n",
    "    # Manually retrieve the load factor variance as this is not included\n",
    "    # in matrix A\n",
    "    \n",
    "    C_n_z = C[7,:]\n",
    "    D_n_z = D[7,:]\n",
    "\n",
    "    var_n_z = C_n_z*L*np.transpose(C_n_z) + D_n_z*W*np.transpose(D_n_z)\n",
    "\n",
    "    # Return the first 4 state variances and the load factor variance\n",
    "\n",
    "    return abs(np.hstack((np.diag(L[0:4, 0:4]), float(var_n_z))))\n",
    "\n",
    "lVar_undamped = var_lyap(undamped_sys)\n",
    "lVar_damped = var_lyap(damped_sys)"
   ]
  },
  {
   "cell_type": "markdown",
   "metadata": {},
   "source": [
    "#### 4.c Finally, the variances are determined with np.var() (equivalent to Matlab's var.m)"
   ]
  },
  {
   "cell_type": "code",
   "execution_count": null,
   "metadata": {},
   "outputs": [],
   "source": [
    "vVar_undamped = np.var(time_data_undamped, 1)\n",
    "vVar_damped = np.var(time_data_damped, 1)"
   ]
  },
  {
   "cell_type": "markdown",
   "metadata": {},
   "source": [
    "Plotting the tables of variances:"
   ]
  },
  {
   "cell_type": "code",
   "execution_count": null,
   "metadata": {},
   "outputs": [],
   "source": [
    "# First create an empty table format with labels:\n",
    "table_format = [[\"\",\"$\\sigma^2_\\hat{u}$\",r\"$\\sigma^2_\\alpha$\",r\"$\\sigma^2_\\theta$\",r\"$\\sigma^2_\\frac{qc}{V}$\",\n",
    "                 r\"$\\sigma^2_{n_z}$\"],\n",
    "                [r\"$\\textbf{Analytical}$\", 0, 0, 0, 0, 0],\n",
    "                [r\"$\\textbf{Lyapunov}$\", 0, 0, 0, 0, 0],\n",
    "                [r\"$\\textbf{Var}$\", 0, 0, 0, 0, 0]]\n",
    "\n",
    "# Collect all calculated variances in an array:\n",
    "vars_undamped = np.vstack((aVar_undamped, np.vstack((lVar_undamped, vVar_undamped))))\n",
    "vars_damped = np.vstack((aVar_damped, np.vstack((lVar_damped, vVar_damped))))\n",
    "\n",
    "# Iterate over the array and position variances in correct table locations\n",
    "for i in range(1,4):\n",
    "    for j in range(1,6):\n",
    "        table_format[i][j] = \"{:.4e}\".format(Decimal(vars_undamped[i-1][j-1]))\n",
    "\n",
    "# Display the table\n",
    "display(Math(\"\\\\text{Undamped variances:}\"))\n",
    "display(HTML(tabulate.tabulate(table_format, tablefmt='html')))\n",
    "\n",
    "# Idem, but for damped variances\n",
    "for i in range(1,4):\n",
    "    for j in range(1,6):\n",
    "        table_format[i][j] = \"{:.4e}\".format(Decimal(vars_damped[i-1][j-1]))\n",
    "        \n",
    "display(Math(\"\\\\text{Damped variances:}\"))\n",
    "display(HTML(tabulate.tabulate(table_format, tablefmt='html')))"
   ]
  },
  {
   "cell_type": "markdown",
   "metadata": {},
   "source": [
    "Determine how much smaller the damped variances are compared to the undamped variances:"
   ]
  },
  {
   "cell_type": "code",
   "execution_count": null,
   "metadata": {},
   "outputs": [],
   "source": [
    "for i in range(1,6):\n",
    "    for j in range(1,4):\n",
    "        table_format[j][i] = \"{:.4}\".format(Decimal(vars_undamped[j-1][i-1]/vars_damped[j-1][i-1]))\n",
    "\n",
    "display(Math(\"\\\\text{Damped variances are smaller than undamped variances by these factors:}\"))\n",
    "display(HTML(tabulate.tabulate(table_format, tablefmt='html')))"
   ]
  },
  {
   "cell_type": "markdown",
   "metadata": {},
   "source": [
    "That concludes this notebook"
   ]
  },
  {
   "cell_type": "code",
   "execution_count": null,
   "metadata": {},
   "outputs": [],
   "source": []
  }
 ],
 "metadata": {
  "kernelspec": {
   "display_name": "Python 2",
   "language": "python",
   "name": "python2"
  },
  "language_info": {
   "codemirror_mode": {
    "name": "ipython",
    "version": 2
   },
   "file_extension": ".py",
   "mimetype": "text/x-python",
   "name": "python",
   "nbconvert_exporter": "python",
   "pygments_lexer": "ipython2",
   "version": "2.7.10"
  }
 },
 "nbformat": 4,
 "nbformat_minor": 2
}
