{
 "cells": [
  {
   "cell_type": "markdown",
   "metadata": {},
   "source": [
    "#### Import standard required modules"
   ]
  },
  {
   "cell_type": "code",
   "execution_count": null,
   "metadata": {},
   "outputs": [],
   "source": [
    "import control.matlab as c\n",
    "import matplotlib.pyplot as plt\n",
    "import numpy as np\n",
    "import copy"
   ]
  },
  {
   "cell_type": "code",
   "execution_count": null,
   "metadata": {},
   "outputs": [],
   "source": [
    "#This keeps the notebook clean\n",
    "import warnings\n",
    "warnings.filterwarnings('ignore')"
   ]
  },
  {
   "cell_type": "markdown",
   "metadata": {},
   "source": [
    "#### Import module 'functions'.\n",
    "This contains functions based on provided matlab code, such as 'create_SS', which is based on cit2s.m and creates a state space system that includes gust effects. This module can be found in the same folder as this notebook."
   ]
  },
  {
   "cell_type": "code",
   "execution_count": null,
   "metadata": {},
   "outputs": [],
   "source": [
    "import functions"
   ]
  },
  {
   "cell_type": "markdown",
   "metadata": {},
   "source": [
    "### 1. Stability Analysis\n",
    "#### 1.a Creating the state space systems\n",
    "Creating the undamped state space system first, gust included:"
   ]
  },
  {
   "cell_type": "code",
   "execution_count": null,
   "metadata": {},
   "outputs": [],
   "source": [
    "undamped_sys = functions.create_SS()"
   ]
  },
  {
   "cell_type": "markdown",
   "metadata": {},
   "source": [
    "The damped system is a copy of the undamped system that includes an active feedback loop with the control law $\\delta_e = K_{\\theta}$. The value of $K_\\theta$ should be chosen such that the damping ratio of the phugoid is equal to $0.5$  and can be determined with the root locus plot of the undamped system."
   ]
  },
  {
   "cell_type": "code",
   "execution_count": null,
   "metadata": {},
   "outputs": [],
   "source": [
    "rlist, klist = c.rlocus(undamped_sys[2,0], kvect=np.linspace(0, -50.0, num=1000),xlim=[-1.4,0],ylim=[-2.5,2.5])"
   ]
  },
  {
   "cell_type": "markdown",
   "metadata": {},
   "source": [
    "A downside of this web-based notebook is that this root locus plot is not interactive. An offline (interactive and clickable) version shows that the required gain lies around -0.11. This can be shown here as well:"
   ]
  },
  {
   "cell_type": "code",
   "execution_count": null,
   "metadata": {},
   "outputs": [],
   "source": [
    "#Gain values before and after -0.11:\n",
    "gain1 = klist[2]\n",
    "gain2 = klist[3]\n",
    "\n",
    "#Define s variable\n",
    "s = c.tf([1, 1],[1])-1\n",
    "\n",
    "#Every gain value has a number of root locations plotted (1 for every root locus section). \n",
    "#Get the two roots from the phugoid sections and multiply them with each other to find \n",
    "#the characteristic equations:\n",
    "char_equation1 = (s - rlist[2][5])*(s - rlist[2][6])\n",
    "char_equation2 = (s - rlist[3][5])*(s - rlist[3][6])\n",
    "\n",
    "#Characteristic equations are now in transfer function form, retrieve the numerators:\n",
    "num1, dummy1 = c.tfdata(char_equation1)\n",
    "num2, dummy2 = c.tfdata(char_equation2)\n",
    "\n",
    "#Recall that the characteristic equation has standard form s^2 + 2*zeta*wn + wn^2 and\n",
    "#determine zetas:\n",
    "zeta1 = num1[0][0][1]/(2*(num1[0][0][2]**0.5))\n",
    "zeta2 = num2[0][0][1]/(2*(num2[0][0][2]**0.5))\n",
    "\n",
    "print \"For a gain value of \"+str(round(gain1,5))+\", the damping ratio becomes \"+str(round(zeta1.real,5))+\".\"\n",
    "print \"For a gain value of \"+str(round(gain2,5))+\", the damping ratio becomes \"+str(round(zeta2.real,5))+\".\"\n",
    "\n",
    "\n"
   ]
  },
  {
   "cell_type": "markdown",
   "metadata": {},
   "source": [
    "The proper gain value is therefore somewhere in between.\n",
    "\n",
    "Finetuning this process with trial and error in Python eventually results in a more exact gain value of -0.117017. The damped system can now be found:"
   ]
  },
  {
   "cell_type": "code",
   "execution_count": null,
   "metadata": {},
   "outputs": [],
   "source": [
    "#First create a copy of the undamped system:\n",
    "damped_sys = copy.deepcopy(undamped_sys)\n",
    "\n",
    "#Create a feedback vector with K_theta at the theta position.\n",
    "K_theta = -0.117017\n",
    "K = [0, 0, K_theta, 0, 0, 0, 0]\n",
    "\n",
    "#Add the feedback loop:\n",
    "damped_sys.A = undamped_sys.A - undamped_sys.B[:,0]*K\n"
   ]
  },
  {
   "cell_type": "markdown",
   "metadata": {},
   "source": [
    "Now there are state space systems for the damped and undamped case. Comparing the damping ratios of the phugoid eigenmotions shows that the damped system is properly damped:"
   ]
  },
  {
   "cell_type": "code",
   "execution_count": null,
   "metadata": {},
   "outputs": [],
   "source": [
    "#Round damping ratio to 5 nearest digits and select the damping ratios\n",
    "#that belong to the phugoid eigenmotions.\n",
    "zeta_undamped = round(c.damp(undamped_sys,doprint=False)[1][2],5)\n",
    "zeta_damped = round(c.damp(damped_sys,doprint=False)[1][2],5)\n",
    "\n",
    "print \"Undamped damping ratio: \"+str(zeta_undamped)\n",
    "print \"Damped damping ratio: \"+str(zeta_damped)"
   ]
  },
  {
   "cell_type": "markdown",
   "metadata": {},
   "source": [
    "#### 1.b) Analysis of results\n",
    "A quick comparison of the step responses of both systems can give an indication of the stability of the systems."
   ]
  },
  {
   "cell_type": "code",
   "execution_count": null,
   "metadata": {},
   "outputs": [],
   "source": [
    "#Create a large enough time scale\n",
    "t = np.arange(0,100,0.01)\n",
    "\n",
    "#Retrieve step response to default inputs\n",
    "[y1, t] = c.step(undamped_sys[2,0], t)\n",
    "[y2, t] = c.step(damped_sys[2,0], t)\n",
    "                 \n",
    "#Plot the figure\n",
    "fig = plt.figure()\n",
    "ax = fig.add_subplot(111)\n",
    "ax.plot(t, -y1, label=\"Undamped\", color='b')\n",
    "ax.plot(t, -y2, label=\"Damped\", color='r')\n",
    "ax.set_xlim([0,100])\n",
    "plt.xlabel('Time [s]')\n",
    "plt.ylabel(r\"$\\theta$ [$\\degree$]\")\n",
    "plt.legend(loc='upper right')\n",
    "plt.title(\"Step response comparison\")\n",
    "plt.grid()\n",
    "plt.show()"
   ]
  },
  {
   "cell_type": "markdown",
   "metadata": {},
   "source": [
    "Both systems appear stable and the system with the feedback loop is much better damped. Pole-zero maps confirm that both systems are stable:"
   ]
  },
  {
   "cell_type": "code",
   "execution_count": null,
   "metadata": {},
   "outputs": [],
   "source": [
    "p, z = c.pzmap(undamped_sys[2,0], title=\"Undamped Pole Zero Map\")\n",
    "\n",
    "print \"Undamped short period eigenvalues:\"\n",
    "print c.damp(undamped_sys,doprint=False)[2][0]\n",
    "print c.damp(undamped_sys,doprint=False)[2][1]\n",
    "print\n",
    "print \"Undamped phugoid eigenvalues:\"\n",
    "print c.damp(undamped_sys,doprint=False)[2][2]\n",
    "print c.damp(undamped_sys,doprint=False)[2][3]"
   ]
  },
  {
   "cell_type": "markdown",
   "metadata": {},
   "source": [
    "All poles are located in the left-hand pane. The same is true for the damped pole-zero map:"
   ]
  },
  {
   "cell_type": "code",
   "execution_count": null,
   "metadata": {},
   "outputs": [],
   "source": [
    "p, z = c.pzmap(damped_sys[2,0], title=\"Damped Pole Zero Map\")\n",
    "\n",
    "print \"Damped short period eigenvalues:\"\n",
    "print c.damp(damped_sys,doprint=False)[2][0]\n",
    "print c.damp(damped_sys,doprint=False)[2][1]\n",
    "print\n",
    "print \"Damped phugoid eigenvalues:\"\n",
    "print c.damp(damped_sys,doprint=False)[2][2]\n",
    "print c.damp(damped_sys,doprint=False)[2][3]"
   ]
  },
  {
   "cell_type": "markdown",
   "metadata": {},
   "source": [
    "All the eigenvalues of both the damped and undamped short periods and phugoids have positive real parts, so both systems are longitudinally stable."
   ]
  }
 ],
 "metadata": {
  "kernelspec": {
   "display_name": "Python 2",
   "language": "python",
   "name": "python2"
  },
  "language_info": {
   "codemirror_mode": {
    "name": "ipython",
    "version": 2
   },
   "file_extension": ".py",
   "mimetype": "text/x-python",
   "name": "python",
   "nbconvert_exporter": "python",
   "pygments_lexer": "ipython2",
   "version": "2.7.10"
  }
 },
 "nbformat": 4,
 "nbformat_minor": 2
}
